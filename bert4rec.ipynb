{
 "cells": [
  {
   "cell_type": "code",
   "execution_count": 3,
   "metadata": {},
   "outputs": [],
   "source": [
    "import pandas as pd\n",
    "import numpy as np\n",
    "import pickle\n"
   ]
  },
  {
   "cell_type": "code",
   "execution_count": 6,
   "metadata": {},
   "outputs": [],
   "source": [
    "movies = pd.read_csv('data/bert4rec/movies.dat', \n",
    "                     sep='::',\n",
    "                     header=None,\n",
    "                     names=['MovieID', 'Title', 'Genres'],\n",
    "                     engine='python',\n",
    "                     encoding='latin-1')\n",
    "\n",
    "ratings = pd.read_csv('data/bert4rec/ratings.dat',\n",
    "                      sep='::',\n",
    "                      header=None,\n",
    "                      names=['UserID', 'MovieID', 'Rating', 'Timestamp'],\n",
    "                      engine='python')\n",
    "\n",
    "with open('data/bert4rec/train_data.pkl', 'rb') as f:\n",
    "    train_data = pickle.load(f)"
   ]
  },
  {
   "cell_type": "code",
   "execution_count": 13,
   "metadata": {},
   "outputs": [
    {
     "name": "stdout",
     "output_type": "stream",
     "text": [
      "-----------MOVIE-INFO-----------\n",
      "   MovieID             Title                        Genres\n",
      "0        1  Toy Story (1995)   Animation|Children's|Comedy\n",
      "1        2    Jumanji (1995)  Adventure|Children's|Fantasy \n",
      "\n",
      "\n",
      "-----------MOVIE-RATING-----------\n",
      "   UserID  MovieID  Rating  Timestamp\n",
      "0       1     1193       5  978300760\n",
      "1       1      661       3  978302109 \n",
      "\n",
      "\n",
      "-----------TRAINING DATA------------\n"
     ]
    },
    {
     "data": {
      "text/plain": [
       "[1, 2, 3]"
      ]
     },
     "execution_count": 13,
     "metadata": {},
     "output_type": "execute_result"
    }
   ],
   "source": [
    "print(\"-----------MOVIE-INFO-----------\")\n",
    "print(movies.head(2), '\\n\\n')\n",
    "print(\"-----------MOVIE-RATING-----------\")\n",
    "print(ratings.head(2), '\\n\\n')\n",
    "print(\"-----------TRAINING DATA------------\")\n",
    "train_data['train'][1][:3] # dict -['train']['id']['sequence']"
   ]
  },
  {
   "cell_type": "code",
   "execution_count": null,
   "metadata": {},
   "outputs": [],
   "source": []
  }
 ],
 "metadata": {
  "kernelspec": {
   "display_name": "recsys",
   "language": "python",
   "name": "python3"
  },
  "language_info": {
   "codemirror_mode": {
    "name": "ipython",
    "version": 3
   },
   "file_extension": ".py",
   "mimetype": "text/x-python",
   "name": "python",
   "nbconvert_exporter": "python",
   "pygments_lexer": "ipython3",
   "version": "3.10.18"
  }
 },
 "nbformat": 4,
 "nbformat_minor": 2
}
